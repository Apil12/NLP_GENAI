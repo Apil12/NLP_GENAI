{
  "nbformat": 4,
  "nbformat_minor": 0,
  "metadata": {
    "colab": {
      "provenance": []
    },
    "kernelspec": {
      "name": "python3",
      "display_name": "Python 3"
    },
    "language_info": {
      "name": "python"
    }
  },
  "cells": [
    {
      "cell_type": "code",
      "execution_count": 1,
      "metadata": {
        "colab": {
          "base_uri": "https://localhost:8080/"
        },
        "id": "tZAexNbmqumY",
        "outputId": "8e15cbfa-6bfd-49f8-d8ce-c787fb4fe6ec"
      },
      "outputs": [
        {
          "output_type": "stream",
          "name": "stdout",
          "text": [
            "Mounted at /content/drive\n"
          ]
        }
      ],
      "source": [
        "from google.colab import drive\n",
        "\n",
        "# Mount Google Drive\n",
        "drive.mount('/content/drive')\n"
      ]
    },
    {
      "cell_type": "code",
      "source": [
        "cd /content/drive/MyDrive/gemma model"
      ],
      "metadata": {
        "colab": {
          "base_uri": "https://localhost:8080/"
        },
        "id": "hW5BVRqMq4SB",
        "outputId": "0e7887d4-0569-4db4-e433-360715b34291"
      },
      "execution_count": 2,
      "outputs": [
        {
          "output_type": "stream",
          "name": "stdout",
          "text": [
            "/content/drive/MyDrive/gemma model\n"
          ]
        }
      ]
    },
    {
      "cell_type": "code",
      "source": [
        "formatted_data = []\n",
        "\n",
        "# Open the text file for reading\n",
        "with open('/content/drive/MyDrive/gemma model/test.txt', 'r') as txt_file:\n",
        "    # Read the lines from the text file\n",
        "    lines = txt_file.readlines()\n",
        "\n",
        "# Initialize a flag to check if the model answer is missing\n",
        "missing_model_answer = False\n",
        "\n",
        "# Iterate over every line\n",
        "for line in lines:\n",
        "    # Strip leading and trailing whitespace from the line\n",
        "    line = line.strip()\n",
        "\n",
        "    # Check if the line starts with \"Question:\"\n",
        "    if line.startswith(\"Question:\"):\n",
        "        # Extract the question\n",
        "        question = line.replace(\"Question:\", \"\").strip()\n",
        "        # Format the question\n",
        "        formatted_str = \"<bos><start_of_turn>user Question:\" + question + \"<end_of_turn> \"\n",
        "        # Append the formatted string to formatted_data list\n",
        "        formatted_data.append(formatted_str)\n",
        "\n",
        "        # Set the flag to True indicating that the model answer is missing\n",
        "        missing_model_answer = True\n",
        "    # Check if the line starts with \"Answer:\"\n",
        "    elif line.startswith(\"Answer:\"):\n",
        "        # Extract the answer\n",
        "        answer = line.replace(\"Answer:\", \"\").strip()\n",
        "        # Format the model answer\n",
        "        formatted_str = \"<start_of_turn>model Answer:\" + answer + \"<end_of_turn>\"\n",
        "\n",
        "        if missing_model_answer:\n",
        "            # Append an empty model answer after the user question\n",
        "            formatted_data[-1] += formatted_str\n",
        "            missing_model_answer = False\n",
        "        else:\n",
        "            # Append the model answer to formatted_data list\n",
        "            formatted_data.append(formatted_str)\n",
        "\n",
        "# Print the formatted data\n",
        "for item in formatted_data:\n",
        "    print(item)\n"
      ],
      "metadata": {
        "colab": {
          "base_uri": "https://localhost:8080/"
        },
        "id": "sowyrBRwzGWr",
        "outputId": "753aba21-ff00-4856-ca13-99d039d51a77"
      },
      "execution_count": 45,
      "outputs": [
        {
          "output_type": "stream",
          "name": "stdout",
          "text": [
            "<bos><start_of_turn>user Question:What kind of clothing do you offer at Huba?<end_of_turn> <start_of_turn>model Answer:At Huba, we offer a wide range of clothing including casual wear, formal attire, activewear, and accessories to suit various styles and occasions.<end_of_turn>\n",
            "<bos><start_of_turn>user Question:Where is your store located in Bhaktapur, Nepal?<end_of_turn> <start_of_turn>model Answer:You can find us conveniently located in the heart of Bhaktapur, at [insert address here], easily accessible for all our customers.<end_of_turn>\n",
            "<bos><start_of_turn>user Question:Can I see some examples of the fabrics you use in your clothing?<end_of_turn> <start_of_turn>model Answer:Absolutely! We take pride in using high-quality fabrics such as organic cotton, linen, and blends that are comfortable, durable, and stylish.<end_of_turn>\n",
            "<bos><start_of_turn>user Question:What makes Huba different from other clothing brands?<end_of_turn> <start_of_turn>model Answer:At Huba, we prioritize quality, craftsmanship, and attention to detail in every piece we create. Our commitment to using premium fabrics and delivering exceptional customer service sets us apart.<end_of_turn>\n",
            "<bos><start_of_turn>user Question:Do you offer custom sizing or alterations?<end_of_turn> <start_of_turn>model Answer:Yes, we understand that everyone's body is unique. That's why we offer custom sizing and alterations to ensure the perfect fit for each customer.<end_of_turn>\n",
            "<bos><start_of_turn>user Question:Are your products ethically sourced and manufactured?<end_of_turn> <start_of_turn>model Answer:Absolutely. We are committed to ethical practices and ensure that our products are sourced and manufactured in facilities that uphold fair labor standards and environmental responsibility.<end_of_turn>\n",
            "<bos><start_of_turn>user Question:How often do you release new collections?<end_of_turn> <start_of_turn>model Answer:We release new collections seasonally, showcasing the latest trends and designs to keep our customers' wardrobes fresh and exciting.<end_of_turn>\n",
            "<bos><start_of_turn>user Question:Do you have any eco-friendly initiatives or sustainable practices?<end_of_turn> <start_of_turn>model Answer:Yes, sustainability is important to us. We incorporate eco-friendly practices throughout our supply chain, including using recycled materials and reducing waste.<end_of_turn>\n",
            "<bos><start_of_turn>user Question:What is the inspiration behind the design of your clothing?<end_of_turn> <start_of_turn>model Answer:Our designs are inspired by the vibrant culture, heritage, and natural beauty of Nepal, infused with modern aesthetics to create timeless pieces that resonate with our customers.<end_of_turn>\n",
            "<bos><start_of_turn>user Question:Can I learn more about the history of Huba?<end_of_turn> <start_of_turn>model Answer:Of course! Huba was founded with a vision to blend quality craftsmanship with modern style, catering to the diverse fashion needs of our customers in Bhaktapur and beyond.<end_of_turn>\n",
            "<bos><start_of_turn>user Question:What sizes do you offer at Huba?<end_of_turn> <start_of_turn>model Answer:We offer a wide range of sizes to accommodate different body types and preferences, ensuring that everyone can find the perfect fit at Huba.<end_of_turn>\n",
            "<bos><start_of_turn>user Question:Do you have a loyalty program for frequent customers?<end_of_turn> <start_of_turn>model Answer:Yes, we value our loyal customers. We have a loyalty program that rewards you with exclusive discounts, special offers, and early access to new collections.<end_of_turn>\n",
            "<bos><start_of_turn>user Question:Can I shop online from Huba's website?<end_of_turn> <start_of_turn>model Answer:Absolutely! You can browse our collection and shop online through our website, where you'll find a seamless shopping experience and convenient delivery options.<end_of_turn>\n",
            "<bos><start_of_turn>user Question:How do I care for the clothing I purchase from Huba?<end_of_turn> <start_of_turn>model Answer:To ensure the longevity of your garments, we recommend following the care instructions on the label and handling them with care. For specific guidance, feel free to ask our staff.<end_of_turn>\n",
            "<bos><start_of_turn>user Question:Are your products suitable for all seasons?<end_of_turn> <start_of_turn>model Answer:Yes, our versatile clothing is designed to be worn year-round, with options for every season. From lightweight fabrics for summer to cozy layers for winter, we have you covered.<end_of_turn>\n",
            "<bos><start_of_turn>user Question:Do you offer gift wrapping services?<end_of_turn> <start_of_turn>model Answer:Absolutely! We offer complimentary gift wrapping services to add a special touch to your purchase, making it perfect for gifting on any occasion.<end_of_turn>\n",
            "<bos><start_of_turn>user Question:Can I find sustainable fashion options at Huba?<end_of_turn> <start_of_turn>model Answer:Yes, sustainability is important to us. We offer a selection of sustainable fashion options, including clothing made from eco-friendly materials and ethically produced accessories.<end_of_turn>\n",
            "<bos><start_of_turn>user Question:How can I stay updated on new arrivals and promotions at Huba?<end_of_turn> <start_of_turn>model Answer:You can stay updated by following us on social media and subscribing to our newsletter, where we share the latest arrivals, promotions, and style tips.<end_of_turn>\n",
            "<bos><start_of_turn>user Question:Are your clothing designs influenced by local culture and traditions?<end_of_turn> <start_of_turn>model Answer:Absolutely! We draw inspiration from the rich cultural heritage of Nepal, incorporating elements of traditional craftsmanship and motifs into our modern designs.<end_of_turn>\n",
            "<bos><start_of_turn>user Question:Do you offer style consultations or personal shopping services?<end_of_turn> <start_of_turn>model Answer:Yes, we offer personalized style consultations and personal shopping services to help you find the perfect pieces that reflect your individual style and preferences.<end_of_turn>\n",
            "<bos><start_of_turn>user Question:Can I find clothing suitable for special occasions at Huba?<end_of_turn> <start_of_turn>model Answer:Yes, we offer a range of elegant and sophisticated attire perfect for special occasions such as weddings, parties, and formal events.<end_of_turn>\n",
            "<bos><start_of_turn>user Question:Are your products made to last?<end_of_turn> <start_of_turn>model Answer:Absolutely! We take pride in the quality of our craftsmanship and materials, ensuring that our products are made to last and withstand the test of time.<end_of_turn>\n",
            "<bos><start_of_turn>user Question:Do you offer international shipping?<end_of_turn> <start_of_turn>model Answer:Yes, we offer international shipping to bring our high-quality clothing to customers around the world. Shipping fees and delivery times may vary depending on the destination.<end_of_turn>\n",
            "<bos><start_of_turn>user Question:Can I return or exchange items if they don't fit?<end_of_turn> <start_of_turn>model Answer:Yes, we want you to be completely satisfied with your purchase. You can return or exchange items within our specified return policy, provided they are in their original condition with tags attached.<end_of_turn>\n",
            "<bos><start_of_turn>user Question:What payment methods do you accept?<end_of_turn> <start_of_turn>model Answer:We accept a variety of payment methods including cash, credit/debit cards, mobile payments, and online payment platforms for your convenience.<end_of_turn>\n",
            "<bos><start_of_turn>user Question:Do you offer discounts for students or seniors?<end_of_turn> <start_of_turn>model Answer:Yes, we offer special discounts for students and seniors with valid identification. Please inquire in-store or online for more details.<end_of_turn>\n",
            "<bos><start_of_turn>user Question:Can I find accessories to complement my outfit at Huba?<end_of_turn> <start_of_turn>model Answer:Yes, we offer a curated selection of accessories including jewelry, scarves, bags, and hats to complete your look and add a touch of style to any outfit.<end_of_turn>\n",
            "<bos><start_of_turn>user Question:How do I know what size to order online?<end_of_turn> <start_of_turn>model Answer:We provide detailed size charts and fit guides on our website to help you determine the best size for your measurements. If you need further assistance, our customer service team is happy to help.<end_of_turn>\n",
            "<bos><start_of_turn>user Question:Are your products made locally in Nepal?<end_of_turn> <start_of_turn>model Answer:Yes, we are proud to support local artisans and manufacturers in Nepal, ensuring that our products are made with care and craftsmanship right here in our community.<end_of_turn>\n",
            "<bos><start_of_turn>user Question:Do you offer any incentives for referring friends to Huba?<end_of_turn> <start_of_turn>model Answer:Yes, we have a referral program where you can earn rewards for referring friends and family to shop at Huba. The more you refer, the more rewards you can earn!<end_of_turn>\n",
            "<bos><start_of_turn>user Question:Can I request a specific item or design that is not currently available in your store?<end_of_turn> <start_of_turn>model Answer:Absolutely! We value customer feedback and are always open to suggestions. Feel free to let us know what you're looking for, and we'll do our best to accommodate your request.<end_of_turn>\n",
            "<bos><start_of_turn>user Question:Do you offer any exclusive or limited edition collections?<end_of_turn> <start_of_turn>model Answer:Yes, we occasionally release exclusive or limited edition collections featuring unique designs or collaborations with local artists and designers. Be sure to keep an eye out for these special releases!<end_of_turn>\n",
            "<bos><start_of_turn>user Question:Are your clothing pieces suitable for different body types?<end_of_turn> <start_of_turn>model Answer:Yes, we strive to offer inclusive sizing and designs that flatter various body types. Our goal is to make everyone feel confident and comfortable in our clothing.<end_of_turn>\n",
            "<bos><start_of_turn>user Question:Can I find sustainable and organic options for children's clothing at Huba?<end_of_turn> <start_of_turn>model Answer:Yes, we offer a selection of sustainable and organic options for children's clothing, ensuring that your little ones can look stylish while also being environmentally conscious.<end_of_turn>\n",
            "<bos><start_of_turn>user Question:Do you offer alterations or repairs for damaged clothing?<end_of_turn> <start_of_turn>model Answer:Yes, we offer alteration and repair services for damaged or worn-out clothing to help extend the lifespan of your favorite pieces. Simply bring your items into our store, and we'll take care of the rest.<end_of_turn>\n",
            "<bos><start_of_turn>user Question:How do I know if a particular fabric is suitable for sensitive skin?<end_of_turn> <start_of_turn>model Answer:Our staff are trained to provide guidance on fabric types and their suitability for sensitive skin. Feel free to ask us for recommendations based on your specific needs.<end_of_turn>\n",
            "<bos><start_of_turn>user Question:Can I find outfits suitable for outdoor activities or adventure sports at Huba?<end_of_turn> <start_of_turn>model Answer:Yes, we offer a range of functional and stylish activewear designed for outdoor activities and adventure sports, so you can look great while staying active.<end_of_turn>\n",
            "<bos><start_of_turn>user Question:Do you have a size-inclusive range for plus-size customers?<end_of_turn> <start_of_turn>model Answer:Yes, we believe that everyone deserves to feel stylish and confident, which is why we offer a size-inclusive range for plus-size customers to ensure that everyone can find the perfect fit.<end_of_turn>\n",
            "<bos><start_of_turn>user Question:How do I care for garments made from delicate fabrics?<end_of_turn> <start_of_turn>model Answer:We provide care instructions for delicate fabrics to help you maintain their quality and longevity. Our staff can also offer tips and advice on how to properly care for your garments.<end_of_turn>\n",
            "<bos><start_of_turn>user Question:Can I find traditional Nepali attire or cultural clothing at Huba?<end_of_turn> <start_of_turn>model Answer:Yes, we offer a selection of traditional Nepali attire and cultural clothing, showcasing the rich heritage and craftsmanship of Nepal. These pieces are perfect for special occasions or cultural events.<end_of_turn>\n"
          ]
        }
      ]
    },
    {
      "cell_type": "code",
      "source": [
        "import pandas as pd\n",
        "df = pd.DataFrame({'text': formatted_data})\n",
        "df=df.dropna()\n",
        "df.head()\n",
        "df.to_csv('huba_set.csv', index= False)"
      ],
      "metadata": {
        "id": "s-K3k_0j2dMo"
      },
      "execution_count": 59,
      "outputs": []
    }
  ]
}