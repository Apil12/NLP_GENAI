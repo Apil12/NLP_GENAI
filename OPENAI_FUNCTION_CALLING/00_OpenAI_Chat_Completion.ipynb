{
 "cells": [
  {
   "cell_type": "markdown",
   "metadata": {},
   "source": [
    "# OpenAI \n",
    "\n",
    "![Open AI](https://www.androidauthority.com/wp-content/uploads/2022/11/twitter-1-scaled.jpg)"
   ]
  },
  {
   "cell_type": "markdown",
   "metadata": {},
   "source": [
    "### [Open AI Quickstart](https://platform.openai.com/docs/quickstart)\n",
    "\n",
    "- __Account Setup:__ First, create and [OpenAI account](https://platform.openai.com/signup) or [sign in](https://platform.openai.com/login)\n",
    "\n",
    "- __API Key:__ After signing up, obtain your **API key** by navigating to the [`API Keys`](https://platform.openai.com/account/api-keys) section in your OpenAI account settings.\n",
    "\n",
    "> __Note:__ To generate an API key, you must first set up billing information(payment method) in your OpenAI account. This is required to activate and use the API services."
   ]
  },
  {
   "cell_type": "markdown",
   "metadata": {},
   "source": [
    "## 00. Getting Started\n",
    "\n",
    "- __Set up virtual env(optional):__ Creating a virtual environment helps isolate Python packages for your project, preventing conflicts with packages from other projects. To set up a virtual environment:\n",
    "\n",
    "```bash\n",
    "      python3 -m venv openai-env\n",
    "      source openai-env/bin/activate\n",
    "```\n",
    "\n",
    "\n",
    "- __Install OpenAI Python library:__ OpenAI provides a Python library called `openai` that allows you to interact with the OpenAI API. You can install the library using pip:\n",
    "\n",
    "```bash\n",
    "      pip3 install --upgrade openai\n",
    "```"
   ]
  },
  {
   "cell_type": "markdown",
   "metadata": {},
   "source": [
    "## 01. OpenAI API\n",
    "\n",
    "The **OpenAI API** offers developers seamless access to state-of-the-art, pre-trained AI models, including _GPT-3_, _GPT-4_, _GPT-4.5_, _DALL-E_, _Whisper_, and _Embeddings_. By utilizing the OpenAI API, you can effortlessly integrate advanced AI functionalities into your applications, regardless of the programming language. This enables you to enhance your application's intelligence and performance with cutting-edge technology.\n",
    "\n",
    "To manage the OpenAI API key securely, store it in a `.env` file and access it using the `python-dotenv` package. First, install the package with pip:\n",
    "\n",
    "```bash\n",
    "pip3 install python-dotenv\n",
    "```\n",
    "\n",
    "Next, create a `.env` file in the root directory of your project and add your OpenAI API key:\n",
    "\n",
    "```python\n",
    "OPENAI_API_KEY=\"YOUR_API_KEY\"\n",
    "```\n",
    "\n",
    "> **Note:** Create a `.gitignore` file and add `.env` to it. This will ensure that your __API key__ and other sensitive information in the `.env` file are not included in version control.\n"
   ]
  },
  {
   "cell_type": "code",
   "execution_count": 1,
   "metadata": {},
   "outputs": [],
   "source": [
    "# Import necessaty libraries\n",
    "import os \n",
    "import openai \n",
    "from dotenv import load_dotenv\n",
    "\n",
    "# Load environment variables form .env file\n",
    "load_dotenv()\n",
    "\n",
    "# Access environment variables\n",
    "openai_key = os.getenv(\"OPENAI_API_KEY\")\n",
    "openai.api_key = openai_key"
   ]
  },
  {
   "cell_type": "code",
   "execution_count": 2,
   "metadata": {},
   "outputs": [
    {
     "data": {
      "text/plain": [
       "[Model(id='gpt-4o-2024-05-13', created=1715368132, object='model', owned_by='system'),\n",
       " Model(id='gpt-4o-mini', created=1721172741, object='model', owned_by='system'),\n",
       " Model(id='text-embedding-3-small', created=1705948997, object='model', owned_by='system'),\n",
       " Model(id='gpt-4o', created=1715367049, object='model', owned_by='system'),\n",
       " Model(id='dall-e-2', created=1698798177, object='model', owned_by='system'),\n",
       " Model(id='gpt-4o-2024-08-06', created=1722814719, object='model', owned_by='system'),\n",
       " Model(id='tts-1-hd-1106', created=1699053533, object='model', owned_by='system'),\n",
       " Model(id='tts-1-1106', created=1699053241, object='model', owned_by='system'),\n",
       " Model(id='tts-1-hd', created=1699046015, object='model', owned_by='system'),\n",
       " Model(id='dall-e-3', created=1698785189, object='model', owned_by='system'),\n",
       " Model(id='whisper-1', created=1677532384, object='model', owned_by='openai-internal'),\n",
       " Model(id='gpt-4-0125-preview', created=1706037612, object='model', owned_by='system'),\n",
       " Model(id='gpt-3.5-turbo', created=1677610602, object='model', owned_by='openai'),\n",
       " Model(id='gpt-4-turbo-preview', created=1706037777, object='model', owned_by='system'),\n",
       " Model(id='babbage-002', created=1692634615, object='model', owned_by='system'),\n",
       " Model(id='gpt-3.5-turbo-0125', created=1706048358, object='model', owned_by='system'),\n",
       " Model(id='gpt-4-1106-preview', created=1698957206, object='model', owned_by='system'),\n",
       " Model(id='text-embedding-3-large', created=1705953180, object='model', owned_by='system'),\n",
       " Model(id='gpt-3.5-turbo-1106', created=1698959748, object='model', owned_by='system'),\n",
       " Model(id='gpt-3.5-turbo-16k', created=1683758102, object='model', owned_by='openai-internal'),\n",
       " Model(id='chatgpt-4o-latest', created=1723515131, object='model', owned_by='system'),\n",
       " Model(id='gpt-4o-mini-2024-07-18', created=1721172717, object='model', owned_by='system'),\n",
       " Model(id='gpt-3.5-turbo-instruct-0914', created=1694122472, object='model', owned_by='system'),\n",
       " Model(id='gpt-4-0613', created=1686588896, object='model', owned_by='openai'),\n",
       " Model(id='gpt-3.5-turbo-instruct', created=1692901427, object='model', owned_by='system'),\n",
       " Model(id='tts-1', created=1681940951, object='model', owned_by='openai-internal'),\n",
       " Model(id='gpt-4-turbo-2024-04-09', created=1712601677, object='model', owned_by='system'),\n",
       " Model(id='davinci-002', created=1692634301, object='model', owned_by='system'),\n",
       " Model(id='gpt-4-turbo', created=1712361441, object='model', owned_by='system'),\n",
       " Model(id='gpt-4', created=1687882411, object='model', owned_by='openai'),\n",
       " Model(id='text-embedding-ada-002', created=1671217299, object='model', owned_by='openai-internal')]"
      ]
     },
     "execution_count": 2,
     "metadata": {},
     "output_type": "execute_result"
    }
   ],
   "source": [
    "# Access the available models \n",
    "all_models = openai.models.list()\n",
    "list(all_models)"
   ]
  },
  {
   "cell_type": "markdown",
   "metadata": {},
   "source": [
    "> __Note:__ To view above lists in a dataframe you need to install `pandas` python-library\n",
    ">\n",
    "> ```bash\n",
    "> pip3 install pandas\n",
    "> ```"
   ]
  },
  {
   "cell_type": "code",
   "execution_count": 4,
   "metadata": {},
   "outputs": [
    {
     "data": {
      "text/html": [
       "<div>\n",
       "<style scoped>\n",
       "    .dataframe tbody tr th:only-of-type {\n",
       "        vertical-align: middle;\n",
       "    }\n",
       "\n",
       "    .dataframe tbody tr th {\n",
       "        vertical-align: top;\n",
       "    }\n",
       "\n",
       "    .dataframe thead th {\n",
       "        text-align: right;\n",
       "    }\n",
       "</style>\n",
       "<table border=\"1\" class=\"dataframe\">\n",
       "  <thead>\n",
       "    <tr style=\"text-align: right;\">\n",
       "      <th></th>\n",
       "      <th>models</th>\n",
       "      <th>creation</th>\n",
       "      <th>type</th>\n",
       "      <th>owner</th>\n",
       "    </tr>\n",
       "  </thead>\n",
       "  <tbody>\n",
       "    <tr>\n",
       "      <th>0</th>\n",
       "      <td>(id, gpt-4o-2024-05-13)</td>\n",
       "      <td>(created, 1715368132)</td>\n",
       "      <td>(object, model)</td>\n",
       "      <td>(owned_by, system)</td>\n",
       "    </tr>\n",
       "    <tr>\n",
       "      <th>1</th>\n",
       "      <td>(id, gpt-4o-mini)</td>\n",
       "      <td>(created, 1721172741)</td>\n",
       "      <td>(object, model)</td>\n",
       "      <td>(owned_by, system)</td>\n",
       "    </tr>\n",
       "    <tr>\n",
       "      <th>2</th>\n",
       "      <td>(id, text-embedding-3-small)</td>\n",
       "      <td>(created, 1705948997)</td>\n",
       "      <td>(object, model)</td>\n",
       "      <td>(owned_by, system)</td>\n",
       "    </tr>\n",
       "    <tr>\n",
       "      <th>3</th>\n",
       "      <td>(id, gpt-4o)</td>\n",
       "      <td>(created, 1715367049)</td>\n",
       "      <td>(object, model)</td>\n",
       "      <td>(owned_by, system)</td>\n",
       "    </tr>\n",
       "    <tr>\n",
       "      <th>4</th>\n",
       "      <td>(id, dall-e-2)</td>\n",
       "      <td>(created, 1698798177)</td>\n",
       "      <td>(object, model)</td>\n",
       "      <td>(owned_by, system)</td>\n",
       "    </tr>\n",
       "    <tr>\n",
       "      <th>5</th>\n",
       "      <td>(id, gpt-4o-2024-08-06)</td>\n",
       "      <td>(created, 1722814719)</td>\n",
       "      <td>(object, model)</td>\n",
       "      <td>(owned_by, system)</td>\n",
       "    </tr>\n",
       "    <tr>\n",
       "      <th>6</th>\n",
       "      <td>(id, tts-1-hd-1106)</td>\n",
       "      <td>(created, 1699053533)</td>\n",
       "      <td>(object, model)</td>\n",
       "      <td>(owned_by, system)</td>\n",
       "    </tr>\n",
       "    <tr>\n",
       "      <th>7</th>\n",
       "      <td>(id, tts-1-1106)</td>\n",
       "      <td>(created, 1699053241)</td>\n",
       "      <td>(object, model)</td>\n",
       "      <td>(owned_by, system)</td>\n",
       "    </tr>\n",
       "    <tr>\n",
       "      <th>8</th>\n",
       "      <td>(id, tts-1-hd)</td>\n",
       "      <td>(created, 1699046015)</td>\n",
       "      <td>(object, model)</td>\n",
       "      <td>(owned_by, system)</td>\n",
       "    </tr>\n",
       "    <tr>\n",
       "      <th>9</th>\n",
       "      <td>(id, dall-e-3)</td>\n",
       "      <td>(created, 1698785189)</td>\n",
       "      <td>(object, model)</td>\n",
       "      <td>(owned_by, system)</td>\n",
       "    </tr>\n",
       "    <tr>\n",
       "      <th>10</th>\n",
       "      <td>(id, whisper-1)</td>\n",
       "      <td>(created, 1677532384)</td>\n",
       "      <td>(object, model)</td>\n",
       "      <td>(owned_by, openai-internal)</td>\n",
       "    </tr>\n",
       "    <tr>\n",
       "      <th>11</th>\n",
       "      <td>(id, gpt-4-0125-preview)</td>\n",
       "      <td>(created, 1706037612)</td>\n",
       "      <td>(object, model)</td>\n",
       "      <td>(owned_by, system)</td>\n",
       "    </tr>\n",
       "    <tr>\n",
       "      <th>12</th>\n",
       "      <td>(id, gpt-3.5-turbo)</td>\n",
       "      <td>(created, 1677610602)</td>\n",
       "      <td>(object, model)</td>\n",
       "      <td>(owned_by, openai)</td>\n",
       "    </tr>\n",
       "    <tr>\n",
       "      <th>13</th>\n",
       "      <td>(id, gpt-4-turbo-preview)</td>\n",
       "      <td>(created, 1706037777)</td>\n",
       "      <td>(object, model)</td>\n",
       "      <td>(owned_by, system)</td>\n",
       "    </tr>\n",
       "    <tr>\n",
       "      <th>14</th>\n",
       "      <td>(id, babbage-002)</td>\n",
       "      <td>(created, 1692634615)</td>\n",
       "      <td>(object, model)</td>\n",
       "      <td>(owned_by, system)</td>\n",
       "    </tr>\n",
       "    <tr>\n",
       "      <th>15</th>\n",
       "      <td>(id, gpt-3.5-turbo-0125)</td>\n",
       "      <td>(created, 1706048358)</td>\n",
       "      <td>(object, model)</td>\n",
       "      <td>(owned_by, system)</td>\n",
       "    </tr>\n",
       "    <tr>\n",
       "      <th>16</th>\n",
       "      <td>(id, gpt-4-1106-preview)</td>\n",
       "      <td>(created, 1698957206)</td>\n",
       "      <td>(object, model)</td>\n",
       "      <td>(owned_by, system)</td>\n",
       "    </tr>\n",
       "    <tr>\n",
       "      <th>17</th>\n",
       "      <td>(id, text-embedding-3-large)</td>\n",
       "      <td>(created, 1705953180)</td>\n",
       "      <td>(object, model)</td>\n",
       "      <td>(owned_by, system)</td>\n",
       "    </tr>\n",
       "    <tr>\n",
       "      <th>18</th>\n",
       "      <td>(id, gpt-3.5-turbo-1106)</td>\n",
       "      <td>(created, 1698959748)</td>\n",
       "      <td>(object, model)</td>\n",
       "      <td>(owned_by, system)</td>\n",
       "    </tr>\n",
       "    <tr>\n",
       "      <th>19</th>\n",
       "      <td>(id, gpt-3.5-turbo-16k)</td>\n",
       "      <td>(created, 1683758102)</td>\n",
       "      <td>(object, model)</td>\n",
       "      <td>(owned_by, openai-internal)</td>\n",
       "    </tr>\n",
       "    <tr>\n",
       "      <th>20</th>\n",
       "      <td>(id, chatgpt-4o-latest)</td>\n",
       "      <td>(created, 1723515131)</td>\n",
       "      <td>(object, model)</td>\n",
       "      <td>(owned_by, system)</td>\n",
       "    </tr>\n",
       "    <tr>\n",
       "      <th>21</th>\n",
       "      <td>(id, gpt-4o-mini-2024-07-18)</td>\n",
       "      <td>(created, 1721172717)</td>\n",
       "      <td>(object, model)</td>\n",
       "      <td>(owned_by, system)</td>\n",
       "    </tr>\n",
       "    <tr>\n",
       "      <th>22</th>\n",
       "      <td>(id, gpt-3.5-turbo-instruct-0914)</td>\n",
       "      <td>(created, 1694122472)</td>\n",
       "      <td>(object, model)</td>\n",
       "      <td>(owned_by, system)</td>\n",
       "    </tr>\n",
       "    <tr>\n",
       "      <th>23</th>\n",
       "      <td>(id, gpt-4-0613)</td>\n",
       "      <td>(created, 1686588896)</td>\n",
       "      <td>(object, model)</td>\n",
       "      <td>(owned_by, openai)</td>\n",
       "    </tr>\n",
       "    <tr>\n",
       "      <th>24</th>\n",
       "      <td>(id, gpt-3.5-turbo-instruct)</td>\n",
       "      <td>(created, 1692901427)</td>\n",
       "      <td>(object, model)</td>\n",
       "      <td>(owned_by, system)</td>\n",
       "    </tr>\n",
       "    <tr>\n",
       "      <th>25</th>\n",
       "      <td>(id, tts-1)</td>\n",
       "      <td>(created, 1681940951)</td>\n",
       "      <td>(object, model)</td>\n",
       "      <td>(owned_by, openai-internal)</td>\n",
       "    </tr>\n",
       "    <tr>\n",
       "      <th>26</th>\n",
       "      <td>(id, gpt-4-turbo-2024-04-09)</td>\n",
       "      <td>(created, 1712601677)</td>\n",
       "      <td>(object, model)</td>\n",
       "      <td>(owned_by, system)</td>\n",
       "    </tr>\n",
       "    <tr>\n",
       "      <th>27</th>\n",
       "      <td>(id, davinci-002)</td>\n",
       "      <td>(created, 1692634301)</td>\n",
       "      <td>(object, model)</td>\n",
       "      <td>(owned_by, system)</td>\n",
       "    </tr>\n",
       "    <tr>\n",
       "      <th>28</th>\n",
       "      <td>(id, gpt-4-turbo)</td>\n",
       "      <td>(created, 1712361441)</td>\n",
       "      <td>(object, model)</td>\n",
       "      <td>(owned_by, system)</td>\n",
       "    </tr>\n",
       "    <tr>\n",
       "      <th>29</th>\n",
       "      <td>(id, gpt-4)</td>\n",
       "      <td>(created, 1687882411)</td>\n",
       "      <td>(object, model)</td>\n",
       "      <td>(owned_by, openai)</td>\n",
       "    </tr>\n",
       "    <tr>\n",
       "      <th>30</th>\n",
       "      <td>(id, text-embedding-ada-002)</td>\n",
       "      <td>(created, 1671217299)</td>\n",
       "      <td>(object, model)</td>\n",
       "      <td>(owned_by, openai-internal)</td>\n",
       "    </tr>\n",
       "  </tbody>\n",
       "</table>\n",
       "</div>"
      ],
      "text/plain": [
       "                               models               creation             type  \\\n",
       "0             (id, gpt-4o-2024-05-13)  (created, 1715368132)  (object, model)   \n",
       "1                   (id, gpt-4o-mini)  (created, 1721172741)  (object, model)   \n",
       "2        (id, text-embedding-3-small)  (created, 1705948997)  (object, model)   \n",
       "3                        (id, gpt-4o)  (created, 1715367049)  (object, model)   \n",
       "4                      (id, dall-e-2)  (created, 1698798177)  (object, model)   \n",
       "5             (id, gpt-4o-2024-08-06)  (created, 1722814719)  (object, model)   \n",
       "6                 (id, tts-1-hd-1106)  (created, 1699053533)  (object, model)   \n",
       "7                    (id, tts-1-1106)  (created, 1699053241)  (object, model)   \n",
       "8                      (id, tts-1-hd)  (created, 1699046015)  (object, model)   \n",
       "9                      (id, dall-e-3)  (created, 1698785189)  (object, model)   \n",
       "10                    (id, whisper-1)  (created, 1677532384)  (object, model)   \n",
       "11           (id, gpt-4-0125-preview)  (created, 1706037612)  (object, model)   \n",
       "12                (id, gpt-3.5-turbo)  (created, 1677610602)  (object, model)   \n",
       "13          (id, gpt-4-turbo-preview)  (created, 1706037777)  (object, model)   \n",
       "14                  (id, babbage-002)  (created, 1692634615)  (object, model)   \n",
       "15           (id, gpt-3.5-turbo-0125)  (created, 1706048358)  (object, model)   \n",
       "16           (id, gpt-4-1106-preview)  (created, 1698957206)  (object, model)   \n",
       "17       (id, text-embedding-3-large)  (created, 1705953180)  (object, model)   \n",
       "18           (id, gpt-3.5-turbo-1106)  (created, 1698959748)  (object, model)   \n",
       "19            (id, gpt-3.5-turbo-16k)  (created, 1683758102)  (object, model)   \n",
       "20            (id, chatgpt-4o-latest)  (created, 1723515131)  (object, model)   \n",
       "21       (id, gpt-4o-mini-2024-07-18)  (created, 1721172717)  (object, model)   \n",
       "22  (id, gpt-3.5-turbo-instruct-0914)  (created, 1694122472)  (object, model)   \n",
       "23                   (id, gpt-4-0613)  (created, 1686588896)  (object, model)   \n",
       "24       (id, gpt-3.5-turbo-instruct)  (created, 1692901427)  (object, model)   \n",
       "25                        (id, tts-1)  (created, 1681940951)  (object, model)   \n",
       "26       (id, gpt-4-turbo-2024-04-09)  (created, 1712601677)  (object, model)   \n",
       "27                  (id, davinci-002)  (created, 1692634301)  (object, model)   \n",
       "28                  (id, gpt-4-turbo)  (created, 1712361441)  (object, model)   \n",
       "29                        (id, gpt-4)  (created, 1687882411)  (object, model)   \n",
       "30       (id, text-embedding-ada-002)  (created, 1671217299)  (object, model)   \n",
       "\n",
       "                          owner  \n",
       "0            (owned_by, system)  \n",
       "1            (owned_by, system)  \n",
       "2            (owned_by, system)  \n",
       "3            (owned_by, system)  \n",
       "4            (owned_by, system)  \n",
       "5            (owned_by, system)  \n",
       "6            (owned_by, system)  \n",
       "7            (owned_by, system)  \n",
       "8            (owned_by, system)  \n",
       "9            (owned_by, system)  \n",
       "10  (owned_by, openai-internal)  \n",
       "11           (owned_by, system)  \n",
       "12           (owned_by, openai)  \n",
       "13           (owned_by, system)  \n",
       "14           (owned_by, system)  \n",
       "15           (owned_by, system)  \n",
       "16           (owned_by, system)  \n",
       "17           (owned_by, system)  \n",
       "18           (owned_by, system)  \n",
       "19  (owned_by, openai-internal)  \n",
       "20           (owned_by, system)  \n",
       "21           (owned_by, system)  \n",
       "22           (owned_by, system)  \n",
       "23           (owned_by, openai)  \n",
       "24           (owned_by, system)  \n",
       "25  (owned_by, openai-internal)  \n",
       "26           (owned_by, system)  \n",
       "27           (owned_by, system)  \n",
       "28           (owned_by, system)  \n",
       "29           (owned_by, openai)  \n",
       "30  (owned_by, openai-internal)  "
      ]
     },
     "execution_count": 4,
     "metadata": {},
     "output_type": "execute_result"
    }
   ],
   "source": [
    "# View the models list in a dataframe\n",
    "import pandas as pd\n",
    "\n",
    "df = pd.DataFrame(all_models, columns=[\"models\", \"creation\", \"type\", \"owner\"])\n",
    "df"
   ]
  },
  {
   "cell_type": "markdown",
   "metadata": {},
   "source": [
    "## 02. OpenAI Playground\n",
    "\n",
    "> __Note:__ Make sure you have credit available.\n",
    "\n",
    "1. Open the [OpenAI Playground](https://platform.openai.com/playground/chat)\n",
    "\n",
    "![OpenAI Playground Chat](https://miro.medium.com/v2/1*G0vHGmkwRO8DtqWRNXpksA.png)\n",
    "\n",
    "\n",
    "In above screenshot, \n",
    "\n",
    "- **System** sets the behaviour of the playground chat.\n",
    "\n",
    "- **Models** can be choosen from the dropdown menu.\n",
    "\n",
    "Parameters to consider:\n",
    "\n",
    "| **Parameter**        | **Description**                                                                                   |\n",
    "|----------------------|---------------------------------------------------------------------------------------------------|\n",
    "| **Temperature**      | Controls the randomness of the output. Lower values (e.g., 0.2) make responses more deterministic; higher values (e.g., 1.0) increase creativity. |\n",
    "| **Maximum Tokens**  | Specifies the maximum number of tokens (words or pieces of words) the model can generate in one response. |\n",
    "| **Stop Sequences**   | Defines specific sequences of tokens where the model should stop generating further text.         |\n",
    "| **Top P**            | Limits the next token selection to a subset of tokens whose cumulative probability exceeds a certain threshold (p). Balances randomness and coherence. |\n",
    "| **Frequency Penalty**| Adjusts the likelihood of tokens that have already appeared in the output to reduce repetition.     |\n",
    "| **Presence Penalty** | Penalizes any token that has already appeared in the output, regardless of its frequency.          | \n",
    "\n",
    "</br> \n",
    "\n",
    "- You can enter your own prompt in the input field and click **Generate** to see the AI's response.\n",
    "\n",
    "2. For more advanced AI capabilities, you can use the **OpenAI API** directly in your Python code. An example of how to use the GPT models to generate text based on a given prompt can be shown in the Playground's **View Code** Section\n",
    "\n",
    "![View Code](https://global.discourse-cdn.com/openai1/original/4X/6/d/7/6d7ec36c7a95ccbb35668186d782b3731e4fac26.png)\n"
   ]
  },
  {
   "cell_type": "markdown",
   "metadata": {
    "notebookRunGroups": {
     "groupValue": "1"
    }
   },
   "source": [
    "## 03. Chat Completion API\n",
    "\n",
    "- **`openai.completions.create()` _[Legacy]_**: This method is used to generate completions or responses. You provide a series of prompts as input, and the API generates a model-generated response as output.\n",
    "\n",
    "> Note: You can use this by installing old `openai` library package "
   ]
  },
  {
   "cell_type": "code",
   "execution_count": 7,
   "metadata": {},
   "outputs": [],
   "source": [
    "# # Legacy method (depreciated)\n",
    "# openai.Completion.create(\n",
    "#     model=\"gpt-4.5\",\n",
    "#     prompt=\"Generate a sentence about Genarative AI\",\n",
    "#     temperature=0.7,\n",
    "#     max_tokens=128,\n",
    "#     n=1\n",
    "# )"
   ]
  },
  {
   "cell_type": "markdown",
   "metadata": {},
   "source": [
    "- **`openai.chat.completions.create()` _[New]_**: This method is similar to `openai.completions.create()` but is specifically designed for chat-based language models. It takes a series of messages as input and generates a model-generated response as output.\n",
    "\n",
    "> **Prompt** is the textual input you provide, which is converted into **tokens** through the tokenization process. **Tokenization** involves breaking the prompt into manageable units (tokens) for the model to process. The prompt guides the model’s response, while tokenization prepares the input for the model’s internal processing.\n",
    "\n",
    "<div style=\"text-align: center;\">\n",
    "  <img src=\"https://miro.medium.com/v2/resize:fit:1400/0*pbbgEOyVv-X0dPg_.png\" alt=\"Prompt Response\">\n",
    "</div>"
   ]
  },
  {
   "cell_type": "code",
   "execution_count": 13,
   "metadata": {},
   "outputs": [],
   "source": [
    "os.environ['OPENAI_API_KEY'] = os.getenv('OPENAI_API_KEY')"
   ]
  },
  {
   "cell_type": "code",
   "execution_count": 15,
   "metadata": {},
   "outputs": [],
   "source": [
    "# New chat completion method\n",
    "from openai import OpenAI\n",
    "\n",
    "client = OpenAI()\n",
    "\n",
    "response = client.chat.completions.create(\n",
    "    model=\"gpt-4\",\n",
    "    \n",
    "    messages=[\n",
    "        \n",
    "        {\n",
    "          \"role\": \"system\",\n",
    "          \"content\": \"Generate a poem about love\"\n",
    "        }\n",
    "    ],\n",
    "\n",
    "    temperature=1,\n",
    "    max_tokens=256,\n",
    "    top_p=1,\n",
    "    frequency_penalty=0,\n",
    "    presence_penalty=0\n",
    ")"
   ]
  },
  {
   "cell_type": "code",
   "execution_count": 16,
   "metadata": {},
   "outputs": [
    {
     "data": {
      "text/plain": [
       "ChatCompletion(id='chatcmpl-A2JwbcWcPxVb2RTRi3RfgG0xYzIZC', choices=[Choice(finish_reason='length', index=0, logprobs=None, message=ChatCompletionMessage(content=\"Once upon a realm of crimson dusk,\\nThere exists a tale of love, pure as musk.\\nIt dances on the edge of time, true and wise,\\nBlossoming in hearts, under the endless skies.\\n\\nLike a murmuring brook beneath a moonlit veil,\\nIt ebbs and flows, a never-ending tale.\\nAn orchestration by stars above,\\nThe profound symphony of enduring love.\\n\\nIt's golden whispers in the moondust sweep,\\nA lullaby to hearts longing, in celestial sleep,\\nA melody etched in every soul,\\nBinding two halves to create a whole.\\n\\nCaressed by the tender touch of dawn,\\nIn silence, two hearts are passionately drawn,\\nHarmony of two spirits, in pure delight,\\nCrafting promises within the still of night.\\n\\nLike rays of sun kissing morning dew,\\nA sense of warmth this love imbues,\\nYet fierce, like a storm upon the crest,\\nEchoing wildly within the lover's breast.\\n\\nSewn together by fate's deft hand,\\nLovers march through life's shifting sand,\\nIn each other's arms, they find their home,\\nIn love's sweet saga, beautifully grown.\\n\\nIn mysterious allure, it takes its shape,\\nAs elegant as the finest lace drape,\\nA kaleidoscope of feelings\", refusal=None, role='assistant', function_call=None, tool_calls=None))], created=1725116685, model='gpt-4-0613', object='chat.completion', service_tier=None, system_fingerprint=None, usage=CompletionUsage(completion_tokens=256, prompt_tokens=12, total_tokens=268))"
      ]
     },
     "execution_count": 16,
     "metadata": {},
     "output_type": "execute_result"
    }
   ],
   "source": [
    "# Display the response\n",
    "response\n"
   ]
  },
  {
   "cell_type": "code",
   "execution_count": 17,
   "metadata": {},
   "outputs": [
    {
     "data": {
      "text/plain": [
       "openai.types.chat.chat_completion.ChatCompletion"
      ]
     },
     "execution_count": 17,
     "metadata": {},
     "output_type": "execute_result"
    }
   ],
   "source": [
    "# Check what type of response did we get\n",
    "type(response)"
   ]
  },
  {
   "cell_type": "code",
   "execution_count": 18,
   "metadata": {},
   "outputs": [
    {
     "data": {
      "text/plain": [
       "[Choice(finish_reason='length', index=0, logprobs=None, message=ChatCompletionMessage(content=\"Once upon a realm of crimson dusk,\\nThere exists a tale of love, pure as musk.\\nIt dances on the edge of time, true and wise,\\nBlossoming in hearts, under the endless skies.\\n\\nLike a murmuring brook beneath a moonlit veil,\\nIt ebbs and flows, a never-ending tale.\\nAn orchestration by stars above,\\nThe profound symphony of enduring love.\\n\\nIt's golden whispers in the moondust sweep,\\nA lullaby to hearts longing, in celestial sleep,\\nA melody etched in every soul,\\nBinding two halves to create a whole.\\n\\nCaressed by the tender touch of dawn,\\nIn silence, two hearts are passionately drawn,\\nHarmony of two spirits, in pure delight,\\nCrafting promises within the still of night.\\n\\nLike rays of sun kissing morning dew,\\nA sense of warmth this love imbues,\\nYet fierce, like a storm upon the crest,\\nEchoing wildly within the lover's breast.\\n\\nSewn together by fate's deft hand,\\nLovers march through life's shifting sand,\\nIn each other's arms, they find their home,\\nIn love's sweet saga, beautifully grown.\\n\\nIn mysterious allure, it takes its shape,\\nAs elegant as the finest lace drape,\\nA kaleidoscope of feelings\", refusal=None, role='assistant', function_call=None, tool_calls=None))]"
      ]
     },
     "execution_count": 18,
     "metadata": {},
     "output_type": "execute_result"
    }
   ],
   "source": [
    "response.choices"
   ]
  },
  {
   "cell_type": "code",
   "execution_count": 19,
   "metadata": {},
   "outputs": [
    {
     "data": {
      "text/plain": [
       "\"Once upon a realm of crimson dusk,\\nThere exists a tale of love, pure as musk.\\nIt dances on the edge of time, true and wise,\\nBlossoming in hearts, under the endless skies.\\n\\nLike a murmuring brook beneath a moonlit veil,\\nIt ebbs and flows, a never-ending tale.\\nAn orchestration by stars above,\\nThe profound symphony of enduring love.\\n\\nIt's golden whispers in the moondust sweep,\\nA lullaby to hearts longing, in celestial sleep,\\nA melody etched in every soul,\\nBinding two halves to create a whole.\\n\\nCaressed by the tender touch of dawn,\\nIn silence, two hearts are passionately drawn,\\nHarmony of two spirits, in pure delight,\\nCrafting promises within the still of night.\\n\\nLike rays of sun kissing morning dew,\\nA sense of warmth this love imbues,\\nYet fierce, like a storm upon the crest,\\nEchoing wildly within the lover's breast.\\n\\nSewn together by fate's deft hand,\\nLovers march through life's shifting sand,\\nIn each other's arms, they find their home,\\nIn love's sweet saga, beautifully grown.\\n\\nIn mysterious allure, it takes its shape,\\nAs elegant as the finest lace drape,\\nA kaleidoscope of feelings\""
      ]
     },
     "execution_count": 19,
     "metadata": {},
     "output_type": "execute_result"
    }
   ],
   "source": [
    "# Call the 1st index and message list\n",
    "response.choices[0].message.content"
   ]
  },
  {
   "cell_type": "code",
   "execution_count": 20,
   "metadata": {},
   "outputs": [
    {
     "data": {
      "text/html": [
       "Once upon a realm of crimson dusk,\n",
       "There exists a tale of love, pure as musk.\n",
       "It dances on the edge of time, true and wise,\n",
       "Blossoming in hearts, under the endless skies.\n",
       "\n",
       "Like a murmuring brook beneath a moonlit veil,\n",
       "It ebbs and flows, a never-ending tale.\n",
       "An orchestration by stars above,\n",
       "The profound symphony of enduring love.\n",
       "\n",
       "It's golden whispers in the moondust sweep,\n",
       "A lullaby to hearts longing, in celestial sleep,\n",
       "A melody etched in every soul,\n",
       "Binding two halves to create a whole.\n",
       "\n",
       "Caressed by the tender touch of dawn,\n",
       "In silence, two hearts are passionately drawn,\n",
       "Harmony of two spirits, in pure delight,\n",
       "Crafting promises within the still of night.\n",
       "\n",
       "Like rays of sun kissing morning dew,\n",
       "A sense of warmth this love imbues,\n",
       "Yet fierce, like a storm upon the crest,\n",
       "Echoing wildly within the lover's breast.\n",
       "\n",
       "Sewn together by fate's deft hand,\n",
       "Lovers march through life's shifting sand,\n",
       "In each other's arms, they find their home,\n",
       "In love's sweet saga, beautifully grown.\n",
       "\n",
       "In mysterious allure, it takes its shape,\n",
       "As elegant as the finest lace drape,\n",
       "A kaleidoscope of feelings"
      ],
      "text/plain": [
       "<IPython.core.display.HTML object>"
      ]
     },
     "metadata": {},
     "output_type": "display_data"
    }
   ],
   "source": [
    "# Display in the form of HTML\n",
    "from IPython.display import display, HTML\n",
    "\n",
    "html_content = response.choices[0].message.content\n",
    "display(HTML(html_content))"
   ]
  },
  {
   "cell_type": "code",
   "execution_count": 21,
   "metadata": {},
   "outputs": [],
   "source": [
    "# Chat completion method with `n` parameter\n",
    "multiple_response = client.chat.completions.create(\n",
    "    model=\"gpt-3.5-turbo\",\n",
    "    messages=[\n",
    "        {\n",
    "          \"role\": \"system\",\n",
    "          \"content\": \"Generate a small paragraph about World Cup 2022\"\n",
    "        }\n",
    "    ],\n",
    "    temperature=1,\n",
    "    max_tokens=128,\n",
    "    n=3,                # Generate `n=3` responses\n",
    "    top_p=1,\n",
    "    frequency_penalty=0,\n",
    "    presence_penalty=0\n",
    ")"
   ]
  },
  {
   "cell_type": "code",
   "execution_count": 22,
   "metadata": {},
   "outputs": [
    {
     "data": {
      "text/plain": [
       "[Choice(finish_reason='stop', index=0, logprobs=None, message=ChatCompletionMessage(content=\"The World Cup 2022 promises to be an exciting event, set to take place in Qatar for the first time in the tournament's history. With teams from around the world competing for glory, fans can expect to see top-tier talent, fierce competition, and memorable moments. The tournament is scheduled to be held in state-of-the-art stadiums, showcasing Qatar's culture and innovation. All eyes will be on the world's best footballers as they battle it out for the prestigious title of World Cup champions.\", refusal=None, role='assistant', function_call=None, tool_calls=None)),\n",
       " Choice(finish_reason='stop', index=1, logprobs=None, message=ChatCompletionMessage(content='The much-anticipated World Cup 2022 is set to be an exciting and unforgettable event, with matches taking place in Qatar for the first time ever. Football fans from around the globe are eagerly awaiting the chance to see their favorite teams compete on the world stage. As the tournament draws near, the buzz and excitement are palpable, with discussions of potential winners and standout players already making headlines. With state-of-the-art stadiums and a diverse range of cultural experiences awaiting visitors, the World Cup 2022 promises to be a truly unique and memorable spectacle.', refusal=None, role='assistant', function_call=None, tool_calls=None)),\n",
       " Choice(finish_reason='stop', index=2, logprobs=None, message=ChatCompletionMessage(content=\"The highly anticipated FIFA World Cup 2022 is set to take place in Qatar, marking the first time the tournament will be held in the Middle East. Fans from around the globe are eagerly awaiting the opportunity to witness top footballing nations compete on the world's biggest stage. With state-of-the-art stadiums, cutting-edge technology, and a unique cultural experience, the World Cup 2022 promises to be an unforgettable event that celebrates the universal love of the beautiful game.\", refusal=None, role='assistant', function_call=None, tool_calls=None))]"
      ]
     },
     "execution_count": 22,
     "metadata": {},
     "output_type": "execute_result"
    }
   ],
   "source": [
    "multiple_response.choices"
   ]
  },
  {
   "cell_type": "code",
   "execution_count": 23,
   "metadata": {},
   "outputs": [
    {
     "name": "stdout",
     "output_type": "stream",
     "text": [
      "Response 1\n"
     ]
    },
    {
     "data": {
      "text/html": [
       "The World Cup 2022 promises to be an exciting event, set to take place in Qatar for the first time in the tournament's history. With teams from around the world competing for glory, fans can expect to see top-tier talent, fierce competition, and memorable moments. The tournament is scheduled to be held in state-of-the-art stadiums, showcasing Qatar's culture and innovation. All eyes will be on the world's best footballers as they battle it out for the prestigious title of World Cup champions."
      ],
      "text/plain": [
       "<IPython.core.display.HTML object>"
      ]
     },
     "metadata": {},
     "output_type": "display_data"
    },
    {
     "name": "stdout",
     "output_type": "stream",
     "text": [
      "Response 2\n"
     ]
    },
    {
     "data": {
      "text/html": [
       "The much-anticipated World Cup 2022 is set to be an exciting and unforgettable event, with matches taking place in Qatar for the first time ever. Football fans from around the globe are eagerly awaiting the chance to see their favorite teams compete on the world stage. As the tournament draws near, the buzz and excitement are palpable, with discussions of potential winners and standout players already making headlines. With state-of-the-art stadiums and a diverse range of cultural experiences awaiting visitors, the World Cup 2022 promises to be a truly unique and memorable spectacle."
      ],
      "text/plain": [
       "<IPython.core.display.HTML object>"
      ]
     },
     "metadata": {},
     "output_type": "display_data"
    },
    {
     "name": "stdout",
     "output_type": "stream",
     "text": [
      "Response 3\n"
     ]
    },
    {
     "data": {
      "text/html": [
       "The highly anticipated FIFA World Cup 2022 is set to take place in Qatar, marking the first time the tournament will be held in the Middle East. Fans from around the globe are eagerly awaiting the opportunity to witness top footballing nations compete on the world's biggest stage. With state-of-the-art stadiums, cutting-edge technology, and a unique cultural experience, the World Cup 2022 promises to be an unforgettable event that celebrates the universal love of the beautiful game."
      ],
      "text/plain": [
       "<IPython.core.display.HTML object>"
      ]
     },
     "metadata": {},
     "output_type": "display_data"
    }
   ],
   "source": [
    "for i in range(3):\n",
    "    print(f\"Response {i+1}\")\n",
    "    display(HTML(multiple_response.choices[i].message.content))"
   ]
  },
  {
   "cell_type": "markdown",
   "metadata": {},
   "source": [
    "## 04. OpenAI Tokenizer\n",
    "\n",
    "You can count tokens by pasting one of the responses above into the [__OpenAI Tokenizer__](https://platform.openai.com/tokenizer) website.\n",
    "\n",
    "![OpenAi Tokenizer](https://microsoft.github.io/Workshop-Interact-with-OpenAI-models/assets/images/tokenizer-example-30354110d0fda1fedd261a2223fd80c8.png)"
   ]
  },
  {
   "cell_type": "markdown",
   "metadata": {},
   "source": [
    "### OpenAI Pricing \n",
    "\n",
    "You can also find pricing per thousand tokens and per million tokens into the [__OpenAI Pricing__](https://openai.com/api/pricing/) website.\n"
   ]
  },
  {
   "cell_type": "markdown",
   "metadata": {},
   "source": []
  },
  {
   "cell_type": "markdown",
   "metadata": {},
   "source": []
  },
  {
   "cell_type": "markdown",
   "metadata": {},
   "source": []
  },
  {
   "cell_type": "markdown",
   "metadata": {},
   "source": []
  }
 ],
 "metadata": {
  "kernelspec": {
   "display_name": "env",
   "language": "python",
   "name": "python3"
  },
  "language_info": {
   "codemirror_mode": {
    "name": "ipython",
    "version": 3
   },
   "file_extension": ".py",
   "mimetype": "text/x-python",
   "name": "python",
   "nbconvert_exporter": "python",
   "pygments_lexer": "ipython3",
   "version": "3.12.4"
  }
 },
 "nbformat": 4,
 "nbformat_minor": 2
}
